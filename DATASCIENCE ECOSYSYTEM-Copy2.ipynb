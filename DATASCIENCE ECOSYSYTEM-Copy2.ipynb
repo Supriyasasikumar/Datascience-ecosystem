{
 "cells": [
  {
   "cell_type": "markdown",
   "id": "57055fa7",
   "metadata": {},
   "source": [
    "<h2>Data Science Tool and  Ecosystem</h2>"
   ]
  },
  {
   "cell_type": "markdown",
   "id": "6cd8981c",
   "metadata": {},
   "source": [
    "In this notebook, Data Science Tools and Ecosystem are summarized."
   ]
  },
  {
   "cell_type": "markdown",
   "id": "e876993a",
   "metadata": {},
   "source": [
    "<b>OBJECTIVES:</b>\n",
    "<ul>\n",
    "<li>Data science languages such as python</li>\n",
    "<li>libraries such as pandas</li>\n",
    "<li>Data science tools</li>\n",
    "</ul>"
   ]
  },
  {
   "cell_type": "markdown",
   "id": "3ce3521a",
   "metadata": {},
   "source": [
    "Some of the popular languages that Data Scientists use are:\n",
    "<ol>\n",
    "    <li>Python</li>\n",
    "    <li>R</li>\n",
    "    <li>SQL</li>\n",
    " </ol>"
   ]
  },
  {
   "cell_type": "markdown",
   "id": "f6ba46c6",
   "metadata": {},
   "source": [
    "Some of the commonly used libraries used by Data Scientists include:\n",
    "<ol>\n",
    "    <li>Numpy</li>\n",
    "    <li>Pandas</li>\n",
    "    <li>Sci-py</li>\n",
    "    <li>matplotlib</li>\n",
    "    <li>Seaborn</li>\n",
    " </ol>\n"
   ]
  },
  {
   "cell_type": "markdown",
   "id": "4cb36b93",
   "metadata": {},
   "source": [
    "<table>\n",
    "<th>DATA SCIENCE TOOLS</th>\n",
    " <tr>   \n",
    "<td>tableu</td></tr>\n",
    "<tr>\n",
    "    <td>powerBI</td></tr>\n",
    "<tr>\n",
    "    <td>matlab</td></tr>\n",
    "</table>"
   ]
  },
  {
   "cell_type": "markdown",
   "id": "630d677b",
   "metadata": {},
   "source": [
    "Below are a few examples of evaluating arithmetic expressions in Python"
   ]
  },
  {
   "cell_type": "code",
   "execution_count": null,
   "id": "534e0d6a",
   "metadata": {},
   "outputs": [],
   "source": [
    "# Arithmetic operations\n",
    "code = compile(\"5 + 4\", \"<string>\", \"eval\")\n",
    "eval(code)"
   ]
  },
  {
   "cell_type": "code",
   "execution_count": 2,
   "id": "62e281df",
   "metadata": {},
   "outputs": [
    {
     "data": {
      "text/plain": [
       "17"
      ]
     },
     "execution_count": 2,
     "metadata": {},
     "output_type": "execute_result"
    }
   ],
   "source": [
    "(3*4)+5"
   ]
  },
  {
   "cell_type": "code",
   "execution_count": null,
   "id": "fa4eab07",
   "metadata": {},
   "outputs": [],
   "source": [
    " #Take user input for two numbers\n",
    "num1 = int(input(\"Enter the first number: \"))\n",
    "num2 = int(input(\"Enter the second number: \"))\n",
    "\n",
    "# Multiply the two numbers\n",
    "product = num1 * num2\n",
    "\n",
    "# Add the two numbers\n",
    "sum = num1 + num2\n",
    "\n",
    "# Print the results\n",
    "print(\"The product of {} and {} is {}\".format(num1, num2, product))\n",
    "print(\"The sum of {} and {} is {}\".format(num1, num2, sum))"
   ]
  },
  {
   "cell_type": "markdown",
   "id": "01d4c172",
   "metadata": {},
   "source": [
    "This will convert 200 minutes to hours by diving by 60"
   ]
  },
  {
   "cell_type": "code",
   "execution_count": 1,
   "id": "189f0f53",
   "metadata": {},
   "outputs": [
    {
     "name": "stdout",
     "output_type": "stream",
     "text": [
      "0 days, 3.3333333333333335 hours, 0 mins. \n"
     ]
    }
   ],
   "source": [
    "days = 0\n",
    "hours = 0\n",
    "mins = 0\n",
    "\n",
    "time = 200\n",
    "#days = time / 1440\n",
    "leftover_minutes = time % 1440\n",
    "hours = leftover_minutes / 60\n",
    "#mins = time - (days*1440) - (hours*60)\n",
    "print(str(days) + \" days, \" + str(hours) + \" hours, \" + str(mins) +  \" mins. \")"
   ]
  },
  {
   "cell_type": "markdown",
   "id": "7d56c697",
   "metadata": {},
   "source": [
    "<h2>Author</h2>"
   ]
  },
  {
   "cell_type": "markdown",
   "id": "14944370",
   "metadata": {},
   "source": [
    "Supriya"
   ]
  },
  {
   "cell_type": "code",
   "execution_count": null,
   "id": "f6197921",
   "metadata": {},
   "outputs": [],
   "source": []
  }
 ],
 "metadata": {
  "kernelspec": {
   "display_name": "Python 3",
   "language": "python",
   "name": "python3"
  },
  "language_info": {
   "codemirror_mode": {
    "name": "ipython",
    "version": 3
   },
   "file_extension": ".py",
   "mimetype": "text/x-python",
   "name": "python",
   "nbconvert_exporter": "python",
   "pygments_lexer": "ipython3",
   "version": "3.8.8"
  }
 },
 "nbformat": 4,
 "nbformat_minor": 5
}
